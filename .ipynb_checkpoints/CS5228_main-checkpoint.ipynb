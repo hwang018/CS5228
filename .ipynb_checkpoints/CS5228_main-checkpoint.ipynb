{
 "cells": [
  {
   "cell_type": "markdown",
   "metadata": {},
   "source": [
    "Major definition\n",
    "\n",
    "\"Administrative\", \"Administrative Duration\", \"Informational\", \"Informational Duration\", \"Product Related\" and \"Product Related Duration\" represent the number of different types of pages visited by the visitor in that session and total time spent in each of these page categories. The values of these features are derived from the URL information of the pages visited by the user and updated in real time when a user takes an action, e.g. moving from one page to another. The \"Bounce Rate\", \"Exit Rate\" and \"Page Value\" features represent the metrics measured by \"Google Analytics\" for each page in the e-commerce site. The value of \"Bounce Rate\" feature for a web page refers to the percentage of visitors who enter the site from that page and then leave (\"bounce\") without triggering any other requests to the analytics server during that session.\n",
    "\n",
    "The value of \"Exit Rate\" feature for a specific web page is calculated as for all pageviews to the page, the percentage that were the last in the session. \n",
    "\n",
    "The \"Page Value\" feature represents the average value for a web page that a user visited before completing an e-commerce transaction.\n",
    "\n",
    "The \"Special Day\" feature indicates the closeness of the site visiting time to a specific special day (e.g. Mother’s Day, Valentine's Day) in which the sessions are more likely to be finalized with transaction. The value of this attribute is determined by considering the dynamics of e-commerce such as the duration between the order date and very date. For example, for Valentina’s day, this value takes a nonzero value between February 2 and February 12, zero before and after this date unless it is close to another special day, and its maximum value of 1 on February 8. \n",
    "\n",
    "The dataset also includes operating system, browser, region, traffic type, visitor type as returning or new visitor, a Boolean value indicating whether the date of the visit is weekend, and month of the"
   ]
  },
  {
   "cell_type": "code",
   "execution_count": 2,
   "metadata": {},
   "outputs": [],
   "source": [
    "import numpy as np\n",
    "import pandas as pd\n",
    "\n",
    "import os\n",
    "import matplotlib.pyplot as plt\n",
    "%matplotlib inline\n",
    "\n",
    "import seaborn as sns\n",
    "\n",
    "from sklearn.preprocessing import StandardScaler\n",
    "\n",
    "from sklearn.model_selection import train_test_split\n",
    "from sklearn.model_selection import GridSearchCV\n",
    "\n",
    "# model evaluation\n",
    "from sklearn.metrics import confusion_matrix\n",
    "from sklearn.metrics import f1_score\n",
    "from sklearn.metrics import accuracy_score\n",
    "\n",
    "# classifiers\n",
    "from sklearn.neighbors import KNeighborsClassifier # KNN\n",
    "from sklearn.linear_model import LogisticRegression # logistic regression\n",
    "from sklearn.tree import DecisionTreeClassifier # decision tree\n",
    "from sklearn.ensemble import RandomForestClassifier # random forest\n",
    "from sklearn.ensemble import GradientBoostingClassifier # gradient boosting\n",
    "\n",
    "from tqdm import tqdm_notebook\n",
    "from sklearn.preprocessing import StandardScaler\n",
    "from sklearn.svm import NuSVC, SVC\n",
    "from sklearn.metrics import accuracy_score, classification_report,confusion_matrix\n",
    "pd.options.display.precision = 15\n",
    "\n",
    "import lightgbm as lgb\n",
    "import time\n",
    "import datetime\n",
    "\n",
    "import json\n",
    "import ast\n",
    "from sklearn.model_selection import StratifiedKFold, KFold, RepeatedKFold, train_test_split\n",
    "\n",
    "# ignore warnings\n",
    "import warnings\n",
    "warnings.filterwarnings('ignore')\n",
    "\n",
    "pd.pandas.set_option('display.max_columns', None)"
   ]
  },
  {
   "cell_type": "markdown",
   "metadata": {},
   "source": [
    "### 1. EDA: columnar missing vals, distribution and some plots"
   ]
  },
  {
   "cell_type": "code",
   "execution_count": 54,
   "metadata": {},
   "outputs": [],
   "source": [
    "def missing_data(data):\n",
    "    '''\n",
    "    display of missing information per column\n",
    "    '''\n",
    "    total = data.isnull().sum()\n",
    "    percent = (data.isnull().sum()/data.isnull().count()*100)\n",
    "    tt = pd.concat([total, percent], axis=1, keys=['Total', 'Percent'])\n",
    "    types = []\n",
    "    for col in data.columns:\n",
    "        dtype = str(data[col].dtype)\n",
    "        types.append(dtype)\n",
    "    tt['Types'] = types\n",
    "    return(np.transpose(tt))\n",
    "\n",
    "def plot_feature_distribution(df1, df2, label1, label2, features):\n",
    "    '''\n",
    "    numerical feature ditribution comparator for binary labelled segments\n",
    "    '''\n",
    "    i = 0\n",
    "    sns.set_style('whitegrid')\n",
    "    plt.figure()\n",
    "    fig, ax = plt.subplots(3,3,figsize=(10,10))\n",
    "\n",
    "    for feature in features:\n",
    "        try:\n",
    "            i += 1\n",
    "            plt.subplot(3,3,i)\n",
    "            sns.distplot(df1[feature], hist=False,label=label1)\n",
    "            sns.distplot(df2[feature], hist=False,label=label2)\n",
    "            plt.xlabel(feature, fontsize=9)\n",
    "            locs, labels = plt.xticks()\n",
    "            plt.tick_params(axis='x', which='major', labelsize=6, pad=-6)\n",
    "            plt.tick_params(axis='y', which='major', labelsize=6)\n",
    "        except:\n",
    "            continue\n",
    "    plt.show();\n",
    "    \n",
    "    \n",
    "def count_ctgy_spread(df,ctgy_cols):\n",
    "    '''\n",
    "    count in each categorical column,\n",
    "    how many variety they have\n",
    "    returns the suggested methods to process columns, using config\n",
    "    '''\n",
    "    res = {}\n",
    "    advice = {}\n",
    "    for col in ctgy_cols:\n",
    "        val = df[col].value_counts().reset_index().shape[0]\n",
    "        if val <= 6:\n",
    "            advice[col] = 'one_hot'\n",
    "        elif val > 6 and val <= 10:\n",
    "            advice[col] = 'mid_level'\n",
    "        else:\n",
    "            advice[col] = 'encoding'\n",
    "        \n",
    "        res[col] = val\n",
    "    print('column:number of unique records')\n",
    "    return res,advice"
   ]
  },
  {
   "cell_type": "code",
   "execution_count": 55,
   "metadata": {},
   "outputs": [
    {
     "data": {
      "text/html": [
       "<div>\n",
       "<style scoped>\n",
       "    .dataframe tbody tr th:only-of-type {\n",
       "        vertical-align: middle;\n",
       "    }\n",
       "\n",
       "    .dataframe tbody tr th {\n",
       "        vertical-align: top;\n",
       "    }\n",
       "\n",
       "    .dataframe thead th {\n",
       "        text-align: right;\n",
       "    }\n",
       "</style>\n",
       "<table border=\"1\" class=\"dataframe\">\n",
       "  <thead>\n",
       "    <tr style=\"text-align: right;\">\n",
       "      <th></th>\n",
       "      <th>Administrative</th>\n",
       "      <th>Administrative_Duration</th>\n",
       "      <th>Informational</th>\n",
       "      <th>Informational_Duration</th>\n",
       "      <th>ProductRelated</th>\n",
       "      <th>ProductRelated_Duration</th>\n",
       "      <th>BounceRates</th>\n",
       "      <th>ExitRates</th>\n",
       "      <th>PageValues</th>\n",
       "      <th>SpecialDay</th>\n",
       "      <th>Month</th>\n",
       "      <th>OperatingSystems</th>\n",
       "      <th>Browser</th>\n",
       "      <th>Region</th>\n",
       "      <th>TrafficType</th>\n",
       "      <th>VisitorType</th>\n",
       "      <th>Weekend</th>\n",
       "      <th>Revenue</th>\n",
       "    </tr>\n",
       "  </thead>\n",
       "  <tbody>\n",
       "    <tr>\n",
       "      <th>Total</th>\n",
       "      <td>14</td>\n",
       "      <td>14</td>\n",
       "      <td>14</td>\n",
       "      <td>14</td>\n",
       "      <td>14</td>\n",
       "      <td>14</td>\n",
       "      <td>14</td>\n",
       "      <td>14</td>\n",
       "      <td>0</td>\n",
       "      <td>0</td>\n",
       "      <td>0</td>\n",
       "      <td>0</td>\n",
       "      <td>0</td>\n",
       "      <td>0</td>\n",
       "      <td>0</td>\n",
       "      <td>0</td>\n",
       "      <td>0</td>\n",
       "      <td>0</td>\n",
       "    </tr>\n",
       "    <tr>\n",
       "      <th>Percent</th>\n",
       "      <td>0.113544201135442</td>\n",
       "      <td>0.113544201135442</td>\n",
       "      <td>0.113544201135442</td>\n",
       "      <td>0.113544201135442</td>\n",
       "      <td>0.113544201135442</td>\n",
       "      <td>0.113544201135442</td>\n",
       "      <td>0.113544201135442</td>\n",
       "      <td>0.113544201135442</td>\n",
       "      <td>0</td>\n",
       "      <td>0</td>\n",
       "      <td>0</td>\n",
       "      <td>0</td>\n",
       "      <td>0</td>\n",
       "      <td>0</td>\n",
       "      <td>0</td>\n",
       "      <td>0</td>\n",
       "      <td>0</td>\n",
       "      <td>0</td>\n",
       "    </tr>\n",
       "    <tr>\n",
       "      <th>Types</th>\n",
       "      <td>float64</td>\n",
       "      <td>float64</td>\n",
       "      <td>float64</td>\n",
       "      <td>float64</td>\n",
       "      <td>float64</td>\n",
       "      <td>float64</td>\n",
       "      <td>float64</td>\n",
       "      <td>float64</td>\n",
       "      <td>float64</td>\n",
       "      <td>object</td>\n",
       "      <td>object</td>\n",
       "      <td>object</td>\n",
       "      <td>object</td>\n",
       "      <td>object</td>\n",
       "      <td>object</td>\n",
       "      <td>object</td>\n",
       "      <td>bool</td>\n",
       "      <td>int64</td>\n",
       "    </tr>\n",
       "  </tbody>\n",
       "</table>\n",
       "</div>"
      ],
      "text/plain": [
       "            Administrative Administrative_Duration      Informational  \\\n",
       "Total                   14                      14                 14   \n",
       "Percent  0.113544201135442       0.113544201135442  0.113544201135442   \n",
       "Types              float64                 float64            float64   \n",
       "\n",
       "        Informational_Duration     ProductRelated ProductRelated_Duration  \\\n",
       "Total                       14                 14                      14   \n",
       "Percent      0.113544201135442  0.113544201135442       0.113544201135442   \n",
       "Types                  float64            float64                 float64   \n",
       "\n",
       "               BounceRates          ExitRates PageValues SpecialDay   Month  \\\n",
       "Total                   14                 14          0          0       0   \n",
       "Percent  0.113544201135442  0.113544201135442          0          0       0   \n",
       "Types              float64            float64    float64     object  object   \n",
       "\n",
       "        OperatingSystems Browser  Region TrafficType VisitorType Weekend  \\\n",
       "Total                  0       0       0           0           0       0   \n",
       "Percent                0       0       0           0           0       0   \n",
       "Types             object  object  object      object      object    bool   \n",
       "\n",
       "        Revenue  \n",
       "Total         0  \n",
       "Percent       0  \n",
       "Types     int64  "
      ]
     },
     "execution_count": 55,
     "metadata": {},
     "output_type": "execute_result"
    }
   ],
   "source": [
    "# starting point, read in raw data\n",
    "df = pd.read_csv('online_shoppers_intention.csv')\n",
    "\n",
    "# categorical feature coersive conversion\n",
    "df['SpecialDay'] = df['SpecialDay'].astype('O')\n",
    "df['OperatingSystems'] = df['OperatingSystems'].astype('O')\n",
    "df['Browser'] = df['Browser'].astype('O')\n",
    "df['Region'] = df['Region'].astype('O')\n",
    "df['TrafficType'] = df['TrafficType'].astype('O')\n",
    "df['Revenue'] = df['Revenue'].astype(int)\n",
    "\n",
    "# convenient vars for columns\n",
    "feature_cols = df.columns.tolist()\n",
    "feature_cols.remove('Revenue')\n",
    "feature_obj_cols = df.select_dtypes('O').columns.tolist()\n",
    "feature_num_cols = [x for x in feature_cols if x not in feature_obj_cols]\n",
    "\n",
    "#show columnar missing values conditions\n",
    "missing_data(df)"
   ]
  },
  {
   "cell_type": "code",
   "execution_count": 50,
   "metadata": {},
   "outputs": [
    {
     "name": "stdout",
     "output_type": "stream",
     "text": [
      "column:number of unique records\n"
     ]
    }
   ],
   "source": [
    "cols_variety, advice = count_ctgy_spread(df,df.select_dtypes(include=('O')).columns)"
   ]
  },
  {
   "cell_type": "code",
   "execution_count": null,
   "metadata": {},
   "outputs": [],
   "source": []
  },
  {
   "cell_type": "code",
   "execution_count": 49,
   "metadata": {},
   "outputs": [
    {
     "data": {
      "text/plain": [
       "<Figure size 432x288 with 0 Axes>"
      ]
     },
     "metadata": {},
     "output_type": "display_data"
    },
    {
     "data": {
      "image/png": "[encoded data removed]",
      "text/plain": [
       "<Figure size 720x720 with 9 Axes>"
      ]
     },
     "metadata": {},
     "output_type": "display_data"
    }
   ],
   "source": [
    "#EDA t0 is non-revenue, t1 is converted to revenue (target)\n",
    "t0 = df.loc[df['Revenue'] == 0]\n",
    "t1 = df.loc[df['Revenue'] == 1]\n",
    "\n",
    "features = df.columns.values[0:9]\n",
    "plot_feature_distribution(t0, t1, 'No Revenue', 'Revenue', features)"
   ]
  },
  {
   "cell_type": "markdown",
   "metadata": {},
   "source": [
    "### Build benchmark model, off the shelf version"
   ]
  },
  {
   "cell_type": "code",
   "execution_count": 46,
   "metadata": {},
   "outputs": [],
   "source": [
    "def benchmark_model(df,target_col):\n",
    "    '''\n",
    "    benchmark model, using simple off shelf models\n",
    "    we use LR off shelf as benchmark model\n",
    "    '''\n",
    "    \n",
    "    #fillna on the numerical columns, using mean\n",
    "    for col in df.select_dtypes(exclude='O').columns.tolist():\n",
    "        print('fillna on %s'%col)\n",
    "        df[col].fillna(df[col].mean(),inplace=True)\n",
    "        \n",
    "    all_cols = df.columns.tolist()\n",
    "    all_cols.remove(target_col)\n",
    "    \n",
    "    X = pd.get_dummies(df[all_cols])\n",
    "    y = df[target_col]\n",
    "    \n",
    "    #incurred a bit data leakage here due to get dummies, but it's ok due to this is a benchmark\n",
    "    X_train, X_test, y_train, y_test = train_test_split(X, y, test_size=0.2)\n",
    "    \n",
    "    model_names = ['LR'] \n",
    "    acc = []\n",
    "    f1 = []\n",
    "\n",
    "    #using default hyperparameter settings\n",
    "    lr_clf = LogisticRegression()\n",
    "\n",
    "    clf_list = [lr_clf]\n",
    "    clf_dict = dict(zip(model_names,clf_list))\n",
    "\n",
    "    for model in model_names:\n",
    "        clf = clf_dict[model]\n",
    "        #fit df\n",
    "        clf.fit(X_train, y_train)\n",
    "        y_pred = clf.predict(X_test)\n",
    "        f1.append(round(f1_score(y_test, y_pred, average='weighted')*100,2))\n",
    "        acc.append(round(accuracy_score(y_test, y_pred)*100,2))\n",
    "\n",
    "    accuracy_record = pd.DataFrame({'Model': model_names, 'acc': acc})\n",
    "    accuracy_record.set_index('Model', inplace=True)\n",
    "    accuracy_record.loc['avg'] = accuracy_record.mean()\n",
    "\n",
    "    F1_record = pd.DataFrame({'Model': model_names, 'f1': f1})\n",
    "    F1_record.set_index('Model', inplace=True)\n",
    "    F1_record.loc['avg'] = F1_record.mean()\n",
    "\n",
    "    print(accuracy_record)\n",
    "    print('\\n')\n",
    "    print(F1_record);"
   ]
  },
  {
   "cell_type": "code",
   "execution_count": 52,
   "metadata": {},
   "outputs": [
    {
     "name": "stdout",
     "output_type": "stream",
     "text": [
      "fillna on Administrative\n",
      "fillna on Administrative_Duration\n",
      "fillna on Informational\n",
      "fillna on Informational_Duration\n",
      "fillna on ProductRelated\n",
      "fillna on ProductRelated_Duration\n",
      "fillna on BounceRates\n",
      "fillna on ExitRates\n",
      "fillna on PageValues\n",
      "fillna on Weekend\n",
      "fillna on Revenue\n",
      "                      acc\n",
      "Model                    \n",
      "LR     87.920000000000002\n",
      "avg    87.920000000000002\n",
      "\n",
      "\n",
      "                       f1\n",
      "Model                    \n",
      "LR     86.189999999999998\n",
      "avg    86.189999999999998\n"
     ]
    }
   ],
   "source": [
    "ac = benchmark_model(df,target_col='Revenue')"
   ]
  },
  {
   "cell_type": "markdown",
   "metadata": {},
   "source": [
    "### 2. Feature engineering"
   ]
  },
  {
   "cell_type": "code",
   "execution_count": 8,
   "metadata": {},
   "outputs": [
    {
     "name": "stdout",
     "output_type": "stream",
     "text": [
      "(9864, 18) (9864,)\n",
      "(2466, 18) (2466,)\n",
      "fillna on Administrative\n",
      "fillna on Administrative_Duration\n",
      "fillna on Informational\n",
      "fillna on Informational_Duration\n",
      "fillna on ProductRelated\n",
      "fillna on ProductRelated_Duration\n",
      "fillna on BounceRates\n",
      "fillna on ExitRates\n",
      "fillna on PageValues\n",
      "fillna on Weekend\n"
     ]
    }
   ],
   "source": [
    "# create training and testing vars\n",
    "X = df[feature_cols]\n",
    "y = df['Revenue']\n",
    "\n",
    "X_train, X_test, y_train, y_test = train_test_split(df, y, test_size=0.2)\n",
    "print(X_train.shape, y_train.shape)\n",
    "print(X_test.shape, y_test.shape)\n",
    "\n",
    "#fillna on the numerical columns, using mean\n",
    "for col in feature_num_cols:\n",
    "    print('fillna on %s'%col)\n",
    "    X_train[col].fillna(X_train[col].mean(),inplace=True)\n",
    "    X_test[col].fillna(X_test[col].mean(),inplace=True)"
   ]
  },
  {
   "cell_type": "markdown",
   "metadata": {},
   "source": [
    "### Dealing with categorical features"
   ]
  },
  {
   "cell_type": "code",
   "execution_count": 10,
   "metadata": {},
   "outputs": [],
   "source": [
    "import category_encoders as ce\n",
    "\n",
    "'''\n",
    "rf, xgb can't deal with cat features, need to transform to numerical\n",
    "lightgbm and CatBoost, can input directly categorical feature。\n",
    "For lgbm: need to label encoding to find optimal split, better than 1-hot encoding.\n",
    "\n",
    "* For ordinal features (have latent orders), can use label encoding\n",
    "* No order information, a few categories (<4), can use 1-hot\n",
    "* Target encoding (mean/liklihood/impact encoding), can use non-ordinal, >4 categories\n",
    "'''\n",
    "\n",
    "    "
   ]
  },
  {
   "cell_type": "code",
   "execution_count": 14,
   "metadata": {},
   "outputs": [],
   "source": [
    "from sklearn.preprocessing import StandardScaler\n",
    "normed_df = df.copy()\n",
    "\n",
    "scaler = StandardScaler()\n",
    "\n",
    "for col in feature_num_cols:\n",
    "    scaled_col = scaler.fit_transform(normed_df[col].values.reshape((-1,1)))\n",
    "    normed_df[col] = scaled_col"
   ]
  },
  {
   "cell_type": "code",
   "execution_count": null,
   "metadata": {},
   "outputs": [],
   "source": []
  },
  {
   "cell_type": "code",
   "execution_count": null,
   "metadata": {},
   "outputs": [],
   "source": []
  },
  {
   "cell_type": "code",
   "execution_count": null,
   "metadata": {},
   "outputs": [],
   "source": []
  },
  {
   "cell_type": "code",
   "execution_count": null,
   "metadata": {},
   "outputs": [],
   "source": []
  },
  {
   "cell_type": "code",
   "execution_count": 16,
   "metadata": {},
   "outputs": [
    {
     "name": "stdout",
     "output_type": "stream",
     "text": [
      "(12330, 79) (12330,)\n"
     ]
    }
   ],
   "source": [
    "# pima1 split\n",
    "x1 = normed_df.drop(columns='Revenue')\n",
    "y1 = normed_df['Revenue']\n",
    "x_train1, x_test1, y_train1, y_test1 = train_test_split(x1, y1, test_size = 0.25, random_state=0)\n",
    "print(x1.shape, y1.shape)"
   ]
  },
  {
   "cell_type": "code",
   "execution_count": 17,
   "metadata": {},
   "outputs": [],
   "source": [
    "from sklearn.model_selection import cross_val_score\n",
    "\n",
    "search_space = {\"RF\": {'n_estimators': [25,100,300],\n",
    "                        'criterion': ['gini', 'entropy'],\n",
    "                        'bootstrap': [True, False]},\n",
    "                    \"GBM\": {'n_estimators': [25,100,300],\n",
    "                        'max_depth': [3,5,8],\n",
    "                        'learning_rate': [0.01,0.05,0.2],\n",
    "                        'loss': ['deviance', 'exponential']}}\n",
    "\n",
    "def params_tuning(clf_dict,classifier_tag,search_space):\n",
    "    '''\n",
    "    input classifier_tag to tune, with targetted search space\n",
    "    tags include RF, GBM\n",
    "    '''\n",
    "    #unpack search space, and classifier, according to tag\n",
    "    grid_param = search_space[classifier_tag]\n",
    "    classifier = clf_dict[classifier_tag]\n",
    "    \n",
    "    grid_search_obj = GridSearchCV(estimator=classifier, param_grid=grid_param, scoring='accuracy', cv=10,n_jobs=-1)\n",
    "    #fitting the training set of pima2 (train2)\n",
    "    grid_search_obj.fit(x_train1, y_train1)\n",
    "    \n",
    "    best_parameters = grid_search_obj.best_params_\n",
    "    best_accuracy = grid_search_obj.best_score_\n",
    "    \n",
    "    print('Classifier: '+classifier_tag)\n",
    "    print('best params found:',best_parameters)\n",
    "    print('with training accuracy:',best_accuracy)\n",
    "        \n",
    "    #fit pima2\n",
    "    y_pred1 = grid_search_obj.predict(x_test1)\n",
    "    \n",
    "    pima2_f1_best = round(f1_score(y_test1, y_pred1, average='weighted')*100,2)\n",
    "    pima2_acc_best = round(accuracy_score(y_test1, y_pred1)*100,2)\n",
    "    \n",
    "    print('best accuracy (test set):', pima2_acc_best)\n",
    "    print('best f1_Score (test set):', pima2_f1_best)\n",
    "    \n",
    "    #print out confusion matrix on testing set\n",
    "    conf_matrix = confusion_matrix(y_test1, y_pred1)\n",
    "    print('Confusion matrix on test set:')\n",
    "    print(conf_matrix)\n",
    "    \n",
    "    return grid_search_obj"
   ]
  },
  {
   "cell_type": "code",
   "execution_count": 18,
   "metadata": {},
   "outputs": [
    {
     "name": "stdout",
     "output_type": "stream",
     "text": [
      "pima1_acc            acc_mean\n",
      "Model                                        \n",
      "KNN    85.530000000000001  85.530000000000001\n",
      "LR     87.189999999999998  87.189999999999998\n",
      "DT     85.790000000000006  85.790000000000006\n",
      "RF     89.260000000000005  89.260000000000005\n",
      "GBM    89.170000000000002  89.170000000000002\n",
      "avg    87.388000000000005  87.388000000000005\n",
      "\n",
      "\n",
      "                 pima1_f1             F1_mean\n",
      "Model                                        \n",
      "KNN    83.629999999999995  83.629999999999995\n",
      "LR     85.390000000000001  85.390000000000001\n",
      "DT     85.879999999999995  85.879999999999995\n",
      "RF     88.340000000000003  88.340000000000003\n",
      "GBM    88.700000000000003  88.700000000000003\n",
      "avg    86.388000000000005  86.388000000000005\n"
     ]
    }
   ],
   "source": [
    "# K-nearest neighbors, Logistic regression, Decision trees, Random forest, Gradient boosting machine\n",
    "model_names = ['KNN', 'LR', 'DT', 'RF', 'GBM'] \n",
    "pima1_acc = []\n",
    "pima2_acc = []\n",
    "pima1_f1 = []\n",
    "pima2_f1 = []\n",
    "\n",
    "# --- Your code here ---\n",
    "#using default hyperparameter settings\n",
    "knn_clf = KNeighborsClassifier()\n",
    "lr_clf = LogisticRegression()\n",
    "dt_clf = DecisionTreeClassifier()\n",
    "rf_clf = RandomForestClassifier()\n",
    "gbm_clf = GradientBoostingClassifier()\n",
    "\n",
    "clf_list = [knn_clf,lr_clf,dt_clf,rf_clf,gbm_clf]\n",
    "clf_dict = dict(zip(model_names,clf_list))\n",
    "\n",
    "for model in model_names:\n",
    "    #looping through each model, in default setting\n",
    "    clf = clf_dict[model]\n",
    "    \n",
    "    #fit pima1\n",
    "    clf.fit(x_train1, y_train1)\n",
    "    y_pred1 = clf.predict(x_test1)\n",
    "    pima1_f1.append(round(f1_score(y_test1, y_pred1, average='weighted')*100,2))\n",
    "    pima1_acc.append(round(accuracy_score(y_test1, y_pred1)*100,2))\n",
    "    \n",
    "\n",
    "accuracy_record = pd.DataFrame({'Model': model_names, 'pima1_acc': pima1_acc})\n",
    "accuracy_record['acc_mean'] = accuracy_record.mean(axis=1).round(2)\n",
    "accuracy_record.set_index('Model', inplace=True)\n",
    "accuracy_record.loc['avg'] = accuracy_record.mean()\n",
    "\n",
    "F1_record = pd.DataFrame({'Model': model_names, 'pima1_f1': pima1_f1})\n",
    "F1_record['F1_mean'] = F1_record.mean(axis=1).round(2)\n",
    "F1_record.set_index('Model', inplace=True)\n",
    "F1_record.loc['avg'] = F1_record.mean()\n",
    "\n",
    "print(accuracy_record)\n",
    "print('\\n')\n",
    "print(F1_record)"
   ]
  },
  {
   "cell_type": "code",
   "execution_count": null,
   "metadata": {},
   "outputs": [],
   "source": []
  },
  {
   "cell_type": "code",
   "execution_count": 43,
   "metadata": {},
   "outputs": [
    {
     "ename": "NameError",
     "evalue": "name 'clf_dict' is not defined",
     "output_type": "error",
     "traceback": [
      "\u001b[0;31m---------------------------------------------------------------------------\u001b[0m",
      "\u001b[0;31mNameError\u001b[0m                                 Traceback (most recent call last)",
      "\u001b[0;32m<ipython-input-43-9be98a5be78a>\u001b[0m in \u001b[0;36m<module>\u001b[0;34m\u001b[0m\n\u001b[0;32m----> 1\u001b[0;31m \u001b[0mRF_tuned_clf\u001b[0m \u001b[0;34m=\u001b[0m \u001b[0mparams_tuning\u001b[0m\u001b[0;34m(\u001b[0m\u001b[0mclf_dict\u001b[0m\u001b[0;34m,\u001b[0m\u001b[0;34m'RF'\u001b[0m\u001b[0;34m,\u001b[0m\u001b[0msearch_space\u001b[0m\u001b[0;34m)\u001b[0m\u001b[0;34m\u001b[0m\u001b[0;34m\u001b[0m\u001b[0m\n\u001b[0m",
      "\u001b[0;31mNameError\u001b[0m: name 'clf_dict' is not defined"
     ]
    }
   ],
   "source": [
    "RF_tuned_clf = params_tuning(clf_dict,'RF',search_space)"
   ]
  },
  {
   "cell_type": "code",
   "execution_count": null,
   "metadata": {},
   "outputs": [],
   "source": []
  },
  {
   "cell_type": "code",
   "execution_count": null,
   "metadata": {},
   "outputs": [],
   "source": []
  }
 ],
 "metadata": {
  "kernelspec": {
   "display_name": "Python 3",
   "language": "python",
   "name": "python3"
  },
  "language_info": {
   "codemirror_mode": {
    "name": "ipython",
    "version": 3
   },
   "file_extension": ".py",
   "mimetype": "text/x-python",
   "name": "python",
   "nbconvert_exporter": "python",
   "pygments_lexer": "ipython3",
   "version": "3.7.6"
  }
 },
 "nbformat": 4,
 "nbformat_minor": 4
}
