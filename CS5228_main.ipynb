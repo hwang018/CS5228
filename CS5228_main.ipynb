{
 "cells": [
  {
   "cell_type": "code",
   "execution_count": 1,
   "metadata": {},
   "outputs": [],
   "source": [
    "import numpy as np\n",
    "import pandas as pd\n",
    "\n",
    "import os\n",
    "import matplotlib.pyplot as plt\n",
    "%matplotlib inline\n",
    "\n",
    "\n",
    "import seaborn as sns\n",
    "\n",
    "%load_ext autoreload\n",
    "%autoreload 2\n",
    "\n",
    "# feature engineering\n",
    "from sklearn.preprocessing import StandardScaler\n",
    "\n",
    "# model training\n",
    "from sklearn.model_selection import train_test_split\n",
    "from sklearn.model_selection import GridSearchCV\n",
    "\n",
    "# model evaluation\n",
    "from sklearn.metrics import confusion_matrix\n",
    "from sklearn.metrics import f1_score\n",
    "from sklearn.metrics import accuracy_score\n",
    "\n",
    "# classifiers\n",
    "from sklearn.neighbors import KNeighborsClassifier # KNN\n",
    "from sklearn.linear_model import LogisticRegression # logistic regression\n",
    "from sklearn.tree import DecisionTreeClassifier # decision tree\n",
    "from sklearn.ensemble import RandomForestClassifier # random forest\n",
    "from sklearn.ensemble import GradientBoostingClassifier # gradient boosting\n",
    "\n",
    "# ignore warnings\n",
    "import warnings\n",
    "warnings.filterwarnings('ignore')\n",
    "\n",
    "pd.pandas.set_option('display.max_columns', None)"
   ]
  },
  {
   "cell_type": "code",
   "execution_count": 23,
   "metadata": {},
   "outputs": [],
   "source": [
    "df = pd.read_csv('online_shoppers_intention.csv')"
   ]
  },
  {
   "cell_type": "markdown",
   "metadata": {},
   "source": [
    "### Outline:\n",
    "1. EDA and data exploration\n",
    "2. Preparation work\n",
    "3. Feature Engineering, multiple sets of features\n",
    "4. Training pipeline, with params tuning (xgb, gbm, lgbm, rf) (bayesian optimization vs. grid search)\n",
    "5. Test set performance comparison"
   ]
  },
  {
   "cell_type": "markdown",
   "metadata": {},
   "source": [
    "Major definition\n",
    "\n",
    "\"Administrative\", \"Administrative Duration\", \"Informational\", \"Informational Duration\", \"Product Related\" and \"Product Related Duration\" represent the number of different types of pages visited by the visitor in that session and total time spent in each of these page categories. The values of these features are derived from the URL information of the pages visited by the user and updated in real time when a user takes an action, e.g. moving from one page to another. The \"Bounce Rate\", \"Exit Rate\" and \"Page Value\" features represent the metrics measured by \"Google Analytics\" for each page in the e-commerce site. The value of \"Bounce Rate\" feature for a web page refers to the percentage of visitors who enter the site from that page and then leave (\"bounce\") without triggering any other requests to the analytics server during that session.\n",
    "\n",
    "The value of \"Exit Rate\" feature for a specific web page is calculated as for all pageviews to the page, the percentage that were the last in the session. \n",
    "\n",
    "The \"Page Value\" feature represents the average value for a web page that a user visited before completing an e-commerce transaction.\n",
    "\n",
    "The \"Special Day\" feature indicates the closeness of the site visiting time to a specific special day (e.g. Mother’s Day, Valentine's Day) in which the sessions are more likely to be finalized with transaction. The value of this attribute is determined by considering the dynamics of e-commerce such as the duration between the order date and delivery date. For example, for Valentina’s day, this value takes a nonzero value between February 2 and February 12, zero before and after this date unless it is close to another special day, and its maximum value of 1 on February 8. \n",
    "\n",
    "The dataset also includes operating system, browser, region, traffic type, visitor type as returning or new visitor, a Boolean value indicating whether the date of the visit is weekend, and month of the"
   ]
  },
  {
   "cell_type": "markdown",
   "metadata": {},
   "source": [
    "### 1. EDA: columnar missing vals, distribution and some plots"
   ]
  },
  {
   "cell_type": "code",
   "execution_count": 24,
   "metadata": {},
   "outputs": [],
   "source": [
    "#vars for columns\n",
    "feature_cols = df.columns.tolist()\n",
    "feature_cols.remove('Revenue')\n",
    "feature_obj_cols = df.select_dtypes('O').columns.tolist()\n",
    "feature_num_cols = [x for x in feature_cols if x not in feature_obj_cols]"
   ]
  },
  {
   "cell_type": "code",
   "execution_count": 25,
   "metadata": {},
   "outputs": [
    {
     "data": {
      "text/html": [
       "<div>\n",
       "<style scoped>\n",
       "    .dataframe tbody tr th:only-of-type {\n",
       "        vertical-align: middle;\n",
       "    }\n",
       "\n",
       "    .dataframe tbody tr th {\n",
       "        vertical-align: top;\n",
       "    }\n",
       "\n",
       "    .dataframe thead th {\n",
       "        text-align: right;\n",
       "    }\n",
       "</style>\n",
       "<table border=\"1\" class=\"dataframe\">\n",
       "  <thead>\n",
       "    <tr style=\"text-align: right;\">\n",
       "      <th></th>\n",
       "      <th>Administrative</th>\n",
       "      <th>Administrative_Duration</th>\n",
       "      <th>Informational</th>\n",
       "      <th>Informational_Duration</th>\n",
       "      <th>ProductRelated</th>\n",
       "      <th>ProductRelated_Duration</th>\n",
       "      <th>BounceRates</th>\n",
       "      <th>ExitRates</th>\n",
       "      <th>PageValues</th>\n",
       "      <th>SpecialDay</th>\n",
       "      <th>Month</th>\n",
       "      <th>OperatingSystems</th>\n",
       "      <th>Browser</th>\n",
       "      <th>Region</th>\n",
       "      <th>TrafficType</th>\n",
       "      <th>VisitorType</th>\n",
       "      <th>Weekend</th>\n",
       "      <th>Revenue</th>\n",
       "    </tr>\n",
       "  </thead>\n",
       "  <tbody>\n",
       "    <tr>\n",
       "      <th>Total</th>\n",
       "      <td>14</td>\n",
       "      <td>14</td>\n",
       "      <td>14</td>\n",
       "      <td>14</td>\n",
       "      <td>14</td>\n",
       "      <td>14</td>\n",
       "      <td>14</td>\n",
       "      <td>14</td>\n",
       "      <td>0</td>\n",
       "      <td>0</td>\n",
       "      <td>0</td>\n",
       "      <td>0</td>\n",
       "      <td>0</td>\n",
       "      <td>0</td>\n",
       "      <td>0</td>\n",
       "      <td>0</td>\n",
       "      <td>0</td>\n",
       "      <td>0</td>\n",
       "    </tr>\n",
       "    <tr>\n",
       "      <th>Percent</th>\n",
       "      <td>0.113544</td>\n",
       "      <td>0.113544</td>\n",
       "      <td>0.113544</td>\n",
       "      <td>0.113544</td>\n",
       "      <td>0.113544</td>\n",
       "      <td>0.113544</td>\n",
       "      <td>0.113544</td>\n",
       "      <td>0.113544</td>\n",
       "      <td>0</td>\n",
       "      <td>0</td>\n",
       "      <td>0</td>\n",
       "      <td>0</td>\n",
       "      <td>0</td>\n",
       "      <td>0</td>\n",
       "      <td>0</td>\n",
       "      <td>0</td>\n",
       "      <td>0</td>\n",
       "      <td>0</td>\n",
       "    </tr>\n",
       "    <tr>\n",
       "      <th>Types</th>\n",
       "      <td>float64</td>\n",
       "      <td>float64</td>\n",
       "      <td>float64</td>\n",
       "      <td>float64</td>\n",
       "      <td>float64</td>\n",
       "      <td>float64</td>\n",
       "      <td>float64</td>\n",
       "      <td>float64</td>\n",
       "      <td>float64</td>\n",
       "      <td>float64</td>\n",
       "      <td>object</td>\n",
       "      <td>int64</td>\n",
       "      <td>int64</td>\n",
       "      <td>int64</td>\n",
       "      <td>int64</td>\n",
       "      <td>object</td>\n",
       "      <td>bool</td>\n",
       "      <td>bool</td>\n",
       "    </tr>\n",
       "  </tbody>\n",
       "</table>\n",
       "</div>"
      ],
      "text/plain": [
       "        Administrative Administrative_Duration Informational  \\\n",
       "Total               14                      14            14   \n",
       "Percent       0.113544                0.113544      0.113544   \n",
       "Types          float64                 float64       float64   \n",
       "\n",
       "        Informational_Duration ProductRelated ProductRelated_Duration  \\\n",
       "Total                       14             14                      14   \n",
       "Percent               0.113544       0.113544                0.113544   \n",
       "Types                  float64        float64                 float64   \n",
       "\n",
       "        BounceRates ExitRates PageValues SpecialDay   Month OperatingSystems  \\\n",
       "Total            14        14          0          0       0                0   \n",
       "Percent    0.113544  0.113544          0          0       0                0   \n",
       "Types       float64   float64    float64    float64  object            int64   \n",
       "\n",
       "        Browser Region TrafficType VisitorType Weekend Revenue  \n",
       "Total         0      0           0           0       0       0  \n",
       "Percent       0      0           0           0       0       0  \n",
       "Types     int64  int64       int64      object    bool    bool  "
      ]
     },
     "execution_count": 25,
     "metadata": {},
     "output_type": "execute_result"
    }
   ],
   "source": [
    "def missing_data(data):\n",
    "    '''\n",
    "    display of missing information per column\n",
    "    '''\n",
    "    total = data.isnull().sum()\n",
    "    percent = (data.isnull().sum()/data.isnull().count()*100)\n",
    "    tt = pd.concat([total, percent], axis=1, keys=['Total', 'Percent'])\n",
    "    types = []\n",
    "    for col in data.columns:\n",
    "        dtype = str(data[col].dtype)\n",
    "        types.append(dtype)\n",
    "    tt['Types'] = types\n",
    "    return(np.transpose(tt))\n",
    "\n",
    "#show columnar missing values conditions\n",
    "missing_data(df)"
   ]
  },
  {
   "cell_type": "code",
   "execution_count": 19,
   "metadata": {},
   "outputs": [
    {
     "name": "stdout",
     "output_type": "stream",
     "text": [
      "\n",
      "After replacing missing values: \n",
      "Administrative             0\n",
      "Administrative_Duration    0\n",
      "Informational              0\n",
      "Informational_Duration     0\n",
      "ProductRelated             0\n",
      "ProductRelated_Duration    0\n",
      "BounceRates                0\n",
      "ExitRates                  0\n",
      "PageValues                 0\n",
      "SpecialDay                 0\n",
      "Month                      0\n",
      "OperatingSystems           0\n",
      "Browser                    0\n",
      "Region                     0\n",
      "TrafficType                0\n",
      "VisitorType                0\n",
      "Weekend                    0\n",
      "Revenue                    0\n",
      "dtype: int64\n"
     ]
    }
   ],
   "source": [
    "#fillna on the numerical columns, using mean\n",
    "for col in feature_num_cols:\n",
    "    df[col].fillna(df[col].mean(),inplace=True)\n",
    "\n",
    "print('\\nAfter replacing missing values: ')\n",
    "print(df.isna().sum())"
   ]
  },
  {
   "cell_type": "code",
   "execution_count": 28,
   "metadata": {},
   "outputs": [],
   "source": [
    "# categorical feature\n",
    "df['SpecialDay'] = df['SpecialDay'].astype('object')\n",
    "df['OperatingSystems'] = df['OperatingSystems'].astype('object')\n",
    "df['Browser'] = df['Browser'].astype('object')\n",
    "df['Region'] = df['Region'].astype('object')\n",
    "df['TrafficType'] = df['TrafficType'].astype('object')"
   ]
  },
  {
   "cell_type": "code",
   "execution_count": 31,
   "metadata": {},
   "outputs": [
    {
     "data": {
      "text/plain": [
       "2     7961\n",
       "1     2462\n",
       "4      736\n",
       "5      467\n",
       "6      174\n",
       "10     163\n",
       "8      135\n",
       "3      105\n",
       "13      61\n",
       "7       49\n",
       "12      10\n",
       "11       6\n",
       "9        1\n",
       "Name: Browser, dtype: int64"
      ]
     },
     "execution_count": 31,
     "metadata": {},
     "output_type": "execute_result"
    }
   ],
   "source": [
    "df.Browser.value_counts()"
   ]
  },
  {
   "cell_type": "code",
   "execution_count": 30,
   "metadata": {},
   "outputs": [
    {
     "data": {
      "text/plain": [
       "<matplotlib.axes._subplots.AxesSubplot at 0x1a2b437210>"
      ]
     },
     "execution_count": 30,
     "metadata": {},
     "output_type": "execute_result"
    },
    {
     "data": {
      "image/png": "[encoded data removed]",
      "text/plain": [
       "<Figure size 432x288 with 1 Axes>"
      ]
     },
     "metadata": {
      "needs_background": "light"
     },
     "output_type": "display_data"
    }
   ],
   "source": [
    "sns.countplot(df['Revenue'], palette='Set3')"
   ]
  },
  {
   "cell_type": "code",
   "execution_count": null,
   "metadata": {},
   "outputs": [],
   "source": []
  },
  {
   "cell_type": "code",
   "execution_count": null,
   "metadata": {},
   "outputs": [],
   "source": []
  },
  {
   "cell_type": "code",
   "execution_count": null,
   "metadata": {},
   "outputs": [],
   "source": []
  },
  {
   "cell_type": "code",
   "execution_count": null,
   "metadata": {},
   "outputs": [],
   "source": []
  },
  {
   "cell_type": "code",
   "execution_count": 98,
   "metadata": {},
   "outputs": [],
   "source": [
    "from sklearn.preprocessing import StandardScaler\n",
    "normed_df = df.copy()\n",
    "\n",
    "scaler = StandardScaler()\n",
    "\n",
    "for col in feature_num_cols:\n",
    "    scaled_col = scaler.fit_transform(normed_df[col].values.reshape((-1,1)))\n",
    "    normed_df[col] = scaled_col"
   ]
  },
  {
   "cell_type": "code",
   "execution_count": null,
   "metadata": {},
   "outputs": [],
   "source": []
  },
  {
   "cell_type": "code",
   "execution_count": 69,
   "metadata": {},
   "outputs": [],
   "source": [
    "normed_df = pd.get_dummies(normed_df)"
   ]
  },
  {
   "cell_type": "code",
   "execution_count": 70,
   "metadata": {},
   "outputs": [
    {
     "name": "stdout",
     "output_type": "stream",
     "text": [
      "(12330, 28) (12330,)\n"
     ]
    }
   ],
   "source": [
    "# pima1 split\n",
    "x1 = normed_df.drop(columns='Revenue')\n",
    "y1 = normed_df['Revenue']\n",
    "x_train1, x_test1, y_train1, y_test1 = train_test_split(x1, y1, test_size = 0.25, random_state=0)\n",
    "print(x1.shape, y1.shape)"
   ]
  },
  {
   "cell_type": "code",
   "execution_count": 71,
   "metadata": {},
   "outputs": [],
   "source": [
    "from sklearn.model_selection import cross_val_score\n",
    "\n",
    "search_space = {\"RF\": {'n_estimators': [25,100,300],\n",
    "                        'criterion': ['gini', 'entropy'],\n",
    "                        'bootstrap': [True, False]},\n",
    "                    \"GBM\": {'n_estimators': [25,100,300],\n",
    "                        'max_depth': [3,5,8],\n",
    "                        'learning_rate': [0.01,0.05,0.2],\n",
    "                        'loss': ['deviance', 'exponential']}}\n",
    "\n",
    "def params_tuning(clf_dict,classifier_tag,search_space):\n",
    "    '''\n",
    "    input classifier_tag to tune, with targetted search space\n",
    "    tags include RF, GBM\n",
    "    '''\n",
    "    #unpack search space, and classifier, according to tag\n",
    "    grid_param = search_space[classifier_tag]\n",
    "    classifier = clf_dict[classifier_tag]\n",
    "    \n",
    "    grid_search_obj = GridSearchCV(estimator=classifier, param_grid=grid_param, scoring='accuracy', cv=10,n_jobs=-1)\n",
    "    #fitting the training set of pima2 (train2)\n",
    "    grid_search_obj.fit(x_train1, y_train1)\n",
    "    \n",
    "    best_parameters = grid_search_obj.best_params_\n",
    "    best_accuracy = grid_search_obj.best_score_\n",
    "    \n",
    "    print('Classifier: '+classifier_tag)\n",
    "    print('best params found:',best_parameters)\n",
    "    print('with training accuracy:',best_accuracy)\n",
    "        \n",
    "    #fit pima2\n",
    "    y_pred1 = grid_search_obj.predict(x_test1)\n",
    "    \n",
    "    pima2_f1_best = round(f1_score(y_test1, y_pred1, average='weighted')*100,2)\n",
    "    pima2_acc_best = round(accuracy_score(y_test1, y_pred1)*100,2)\n",
    "    \n",
    "    print('best accuracy (test set):', pima2_acc_best)\n",
    "    print('best f1_Score (test set):', pima2_f1_best)\n",
    "    \n",
    "    #print out confusion matrix on testing set\n",
    "    conf_matrix = confusion_matrix(y_test1, y_pred1)\n",
    "    print('Confusion matrix on test set:')\n",
    "    print(conf_matrix)\n",
    "    \n",
    "    return grid_search_obj"
   ]
  },
  {
   "cell_type": "code",
   "execution_count": 76,
   "metadata": {},
   "outputs": [
    {
     "name": "stdout",
     "output_type": "stream",
     "text": [
      "       pima1_acc  acc_mean\n",
      "Model                     \n",
      "KNN       86.730    86.730\n",
      "LR        87.190    87.190\n",
      "DT        85.760    85.760\n",
      "RF        88.740    88.740\n",
      "GBM       89.070    89.070\n",
      "avg       87.498    87.498\n",
      "\n",
      "\n",
      "       pima1_f1  F1_mean\n",
      "Model                   \n",
      "KNN       85.18    85.18\n",
      "LR        85.35    85.35\n",
      "DT        85.64    85.64\n",
      "RF        87.98    87.98\n",
      "GBM       88.55    88.55\n",
      "avg       86.54    86.54\n"
     ]
    }
   ],
   "source": [
    "# K-nearest neighbors, Logistic regression, Decision trees, Random forest, Gradient boosting machine\n",
    "model_names = ['KNN', 'LR', 'DT', 'RF', 'GBM'] \n",
    "pima1_acc = []\n",
    "pima2_acc = []\n",
    "pima1_f1 = []\n",
    "pima2_f1 = []\n",
    "\n",
    "# --- Your code here ---\n",
    "#using default hyperparameter settings\n",
    "knn_clf = KNeighborsClassifier()\n",
    "lr_clf = LogisticRegression()\n",
    "dt_clf = DecisionTreeClassifier()\n",
    "rf_clf = RandomForestClassifier()\n",
    "gbm_clf = GradientBoostingClassifier()\n",
    "\n",
    "clf_list = [knn_clf,lr_clf,dt_clf,rf_clf,gbm_clf]\n",
    "clf_dict = dict(zip(model_names,clf_list))\n",
    "\n",
    "for model in model_names:\n",
    "    #looping through each model, in default setting\n",
    "    clf = clf_dict[model]\n",
    "    \n",
    "    #fit pima1\n",
    "    clf.fit(x_train1, y_train1)\n",
    "    y_pred1 = clf.predict(x_test1)\n",
    "    pima1_f1.append(round(f1_score(y_test1, y_pred1, average='weighted')*100,2))\n",
    "    pima1_acc.append(round(accuracy_score(y_test1, y_pred1)*100,2))\n",
    "    \n",
    "\n",
    "accuracy_record = pd.DataFrame({'Model': model_names, 'pima1_acc': pima1_acc})\n",
    "accuracy_record['acc_mean'] = accuracy_record.mean(axis=1).round(2)\n",
    "accuracy_record.set_index('Model', inplace=True)\n",
    "accuracy_record.loc['avg'] = accuracy_record.mean()\n",
    "\n",
    "F1_record = pd.DataFrame({'Model': model_names, 'pima1_f1': pima1_f1})\n",
    "F1_record['F1_mean'] = F1_record.mean(axis=1).round(2)\n",
    "F1_record.set_index('Model', inplace=True)\n",
    "F1_record.loc['avg'] = F1_record.mean()\n",
    "\n",
    "print(accuracy_record)\n",
    "print('\\n')\n",
    "print(F1_record)"
   ]
  },
  {
   "cell_type": "code",
   "execution_count": null,
   "metadata": {},
   "outputs": [],
   "source": []
  },
  {
   "cell_type": "code",
   "execution_count": 72,
   "metadata": {},
   "outputs": [],
   "source": [
    "model_names = ['KNN', 'LR', 'DT', 'RF', 'GBM'] \n",
    "pima1_acc = []\n",
    "pima2_acc = []\n",
    "pima1_f1 = []\n",
    "pima2_f1 = []\n",
    "\n",
    "\n",
    "knn_clf = KNeighborsClassifier()\n",
    "lr_clf = LogisticRegression()\n",
    "dt_clf = DecisionTreeClassifier()\n",
    "rf_clf = RandomForestClassifier()\n",
    "gbm_clf = GradientBoostingClassifier()\n",
    "\n",
    "clf_list = [knn_clf,lr_clf,dt_clf,rf_clf,gbm_clf]\n",
    "clf_dict = dict(zip(model_names,clf_list))\n"
   ]
  },
  {
   "cell_type": "code",
   "execution_count": 73,
   "metadata": {},
   "outputs": [
    {
     "name": "stdout",
     "output_type": "stream",
     "text": [
      "Classifier: GBM\n",
      "best params found: {'learning_rate': 0.05, 'loss': 'exponential', 'max_depth': 3, 'n_estimators': 100}\n",
      "with training accuracy: 0.9097016497016497\n",
      "best accuracy (test set): 89.07\n",
      "best f1_Score (test set): 88.57\n",
      "Confusion matrix on test set:\n",
      "[[2443  116]\n",
      " [ 221  303]]\n"
     ]
    }
   ],
   "source": [
    "GBM_tuned_clf = params_tuning(clf_dict,'GBM',search_space)"
   ]
  },
  {
   "cell_type": "code",
   "execution_count": 74,
   "metadata": {},
   "outputs": [
    {
     "name": "stdout",
     "output_type": "stream",
     "text": [
      "Classifier: RF\n",
      "best params found: {'bootstrap': True, 'criterion': 'entropy', 'n_estimators': 300}\n",
      "with training accuracy: 0.9063484263484263\n",
      "best accuracy (test set): 89.36\n",
      "best f1_Score (test set): 88.78\n",
      "Confusion matrix on test set:\n",
      "[[2456  103]\n",
      " [ 225  299]]\n"
     ]
    }
   ],
   "source": [
    "RF_tuned_clf = params_tuning(clf_dict,'RF',search_space)"
   ]
  },
  {
   "cell_type": "code",
   "execution_count": null,
   "metadata": {},
   "outputs": [],
   "source": []
  },
  {
   "cell_type": "markdown",
   "metadata": {},
   "source": [
    "### Cluster the data into groups, using kmeans++\n"
   ]
  },
  {
   "cell_type": "code",
   "execution_count": 86,
   "metadata": {},
   "outputs": [
    {
     "data": {
      "text/html": [
       "<div>\n",
       "<style scoped>\n",
       "    .dataframe tbody tr th:only-of-type {\n",
       "        vertical-align: middle;\n",
       "    }\n",
       "\n",
       "    .dataframe tbody tr th {\n",
       "        vertical-align: top;\n",
       "    }\n",
       "\n",
       "    .dataframe thead th {\n",
       "        text-align: right;\n",
       "    }\n",
       "</style>\n",
       "<table border=\"1\" class=\"dataframe\">\n",
       "  <thead>\n",
       "    <tr style=\"text-align: right;\">\n",
       "      <th></th>\n",
       "      <th>Administrative</th>\n",
       "      <th>Administrative_Duration</th>\n",
       "      <th>Informational</th>\n",
       "      <th>Informational_Duration</th>\n",
       "      <th>ProductRelated</th>\n",
       "      <th>ProductRelated_Duration</th>\n",
       "      <th>BounceRates</th>\n",
       "      <th>ExitRates</th>\n",
       "      <th>PageValues</th>\n",
       "      <th>SpecialDay</th>\n",
       "      <th>OperatingSystems</th>\n",
       "      <th>Browser</th>\n",
       "      <th>Region</th>\n",
       "      <th>TrafficType</th>\n",
       "      <th>Weekend</th>\n",
       "      <th>Revenue</th>\n",
       "      <th>Month_Aug</th>\n",
       "      <th>Month_Dec</th>\n",
       "      <th>Month_Feb</th>\n",
       "      <th>Month_Jul</th>\n",
       "      <th>Month_June</th>\n",
       "      <th>Month_Mar</th>\n",
       "      <th>Month_May</th>\n",
       "      <th>Month_Nov</th>\n",
       "      <th>Month_Oct</th>\n",
       "      <th>Month_Sep</th>\n",
       "      <th>VisitorType_New_Visitor</th>\n",
       "      <th>VisitorType_Other</th>\n",
       "      <th>VisitorType_Returning_Visitor</th>\n",
       "    </tr>\n",
       "  </thead>\n",
       "  <tbody>\n",
       "    <tr>\n",
       "      <th>0</th>\n",
       "      <td>-0.697978</td>\n",
       "      <td>-0.457736</td>\n",
       "      <td>-0.396856</td>\n",
       "      <td>-0.245179</td>\n",
       "      <td>-0.691894</td>\n",
       "      <td>-0.625148</td>\n",
       "      <td>3.674713</td>\n",
       "      <td>3.237210</td>\n",
       "      <td>-0.317178</td>\n",
       "      <td>-0.308821</td>\n",
       "      <td>-1.233426</td>\n",
       "      <td>-0.790293</td>\n",
       "      <td>-0.894178</td>\n",
       "      <td>-0.762629</td>\n",
       "      <td>-0.550552</td>\n",
       "      <td>False</td>\n",
       "      <td>0</td>\n",
       "      <td>0</td>\n",
       "      <td>1</td>\n",
       "      <td>0</td>\n",
       "      <td>0</td>\n",
       "      <td>0</td>\n",
       "      <td>0</td>\n",
       "      <td>0</td>\n",
       "      <td>0</td>\n",
       "      <td>0</td>\n",
       "      <td>0</td>\n",
       "      <td>0</td>\n",
       "      <td>1</td>\n",
       "    </tr>\n",
       "    <tr>\n",
       "      <th>1</th>\n",
       "      <td>-0.697978</td>\n",
       "      <td>-0.457736</td>\n",
       "      <td>-0.396856</td>\n",
       "      <td>-0.245179</td>\n",
       "      <td>-0.669404</td>\n",
       "      <td>-0.591696</td>\n",
       "      <td>-0.457718</td>\n",
       "      <td>1.175259</td>\n",
       "      <td>-0.317178</td>\n",
       "      <td>-0.308821</td>\n",
       "      <td>-0.136078</td>\n",
       "      <td>-0.207952</td>\n",
       "      <td>-0.894178</td>\n",
       "      <td>-0.514182</td>\n",
       "      <td>-0.550552</td>\n",
       "      <td>False</td>\n",
       "      <td>0</td>\n",
       "      <td>0</td>\n",
       "      <td>1</td>\n",
       "      <td>0</td>\n",
       "      <td>0</td>\n",
       "      <td>0</td>\n",
       "      <td>0</td>\n",
       "      <td>0</td>\n",
       "      <td>0</td>\n",
       "      <td>0</td>\n",
       "      <td>0</td>\n",
       "      <td>0</td>\n",
       "      <td>1</td>\n",
       "    </tr>\n",
       "    <tr>\n",
       "      <th>2</th>\n",
       "      <td>-0.697978</td>\n",
       "      <td>-0.463394</td>\n",
       "      <td>-0.396856</td>\n",
       "      <td>-0.252284</td>\n",
       "      <td>-0.691894</td>\n",
       "      <td>-0.625670</td>\n",
       "      <td>3.674713</td>\n",
       "      <td>3.237210</td>\n",
       "      <td>-0.317178</td>\n",
       "      <td>-0.308821</td>\n",
       "      <td>2.058618</td>\n",
       "      <td>-0.790293</td>\n",
       "      <td>2.437081</td>\n",
       "      <td>-0.265735</td>\n",
       "      <td>-0.550552</td>\n",
       "      <td>False</td>\n",
       "      <td>0</td>\n",
       "      <td>0</td>\n",
       "      <td>1</td>\n",
       "      <td>0</td>\n",
       "      <td>0</td>\n",
       "      <td>0</td>\n",
       "      <td>0</td>\n",
       "      <td>0</td>\n",
       "      <td>0</td>\n",
       "      <td>0</td>\n",
       "      <td>0</td>\n",
       "      <td>0</td>\n",
       "      <td>1</td>\n",
       "    </tr>\n",
       "    <tr>\n",
       "      <th>3</th>\n",
       "      <td>-0.697978</td>\n",
       "      <td>-0.457736</td>\n",
       "      <td>-0.396856</td>\n",
       "      <td>-0.245179</td>\n",
       "      <td>-0.669404</td>\n",
       "      <td>-0.623754</td>\n",
       "      <td>0.575390</td>\n",
       "      <td>2.000039</td>\n",
       "      <td>-0.317178</td>\n",
       "      <td>-0.308821</td>\n",
       "      <td>0.961270</td>\n",
       "      <td>-0.207952</td>\n",
       "      <td>-0.477771</td>\n",
       "      <td>-0.017289</td>\n",
       "      <td>-0.550552</td>\n",
       "      <td>False</td>\n",
       "      <td>0</td>\n",
       "      <td>0</td>\n",
       "      <td>1</td>\n",
       "      <td>0</td>\n",
       "      <td>0</td>\n",
       "      <td>0</td>\n",
       "      <td>0</td>\n",
       "      <td>0</td>\n",
       "      <td>0</td>\n",
       "      <td>0</td>\n",
       "      <td>0</td>\n",
       "      <td>0</td>\n",
       "      <td>1</td>\n",
       "    </tr>\n",
       "    <tr>\n",
       "      <th>4</th>\n",
       "      <td>-0.697978</td>\n",
       "      <td>-0.457736</td>\n",
       "      <td>-0.396856</td>\n",
       "      <td>-0.245179</td>\n",
       "      <td>-0.489480</td>\n",
       "      <td>-0.297164</td>\n",
       "      <td>-0.044475</td>\n",
       "      <td>0.144284</td>\n",
       "      <td>-0.317178</td>\n",
       "      <td>-0.308821</td>\n",
       "      <td>0.961270</td>\n",
       "      <td>0.374389</td>\n",
       "      <td>-0.894178</td>\n",
       "      <td>-0.017289</td>\n",
       "      <td>1.816360</td>\n",
       "      <td>False</td>\n",
       "      <td>0</td>\n",
       "      <td>0</td>\n",
       "      <td>1</td>\n",
       "      <td>0</td>\n",
       "      <td>0</td>\n",
       "      <td>0</td>\n",
       "      <td>0</td>\n",
       "      <td>0</td>\n",
       "      <td>0</td>\n",
       "      <td>0</td>\n",
       "      <td>0</td>\n",
       "      <td>0</td>\n",
       "      <td>1</td>\n",
       "    </tr>\n",
       "  </tbody>\n",
       "</table>\n",
       "</div>"
      ],
      "text/plain": [
       "   Administrative  Administrative_Duration  Informational  \\\n",
       "0       -0.697978                -0.457736      -0.396856   \n",
       "1       -0.697978                -0.457736      -0.396856   \n",
       "2       -0.697978                -0.463394      -0.396856   \n",
       "3       -0.697978                -0.457736      -0.396856   \n",
       "4       -0.697978                -0.457736      -0.396856   \n",
       "\n",
       "   Informational_Duration  ProductRelated  ProductRelated_Duration  \\\n",
       "0               -0.245179       -0.691894                -0.625148   \n",
       "1               -0.245179       -0.669404                -0.591696   \n",
       "2               -0.252284       -0.691894                -0.625670   \n",
       "3               -0.245179       -0.669404                -0.623754   \n",
       "4               -0.245179       -0.489480                -0.297164   \n",
       "\n",
       "   BounceRates  ExitRates  PageValues  SpecialDay  OperatingSystems   Browser  \\\n",
       "0     3.674713   3.237210   -0.317178   -0.308821         -1.233426 -0.790293   \n",
       "1    -0.457718   1.175259   -0.317178   -0.308821         -0.136078 -0.207952   \n",
       "2     3.674713   3.237210   -0.317178   -0.308821          2.058618 -0.790293   \n",
       "3     0.575390   2.000039   -0.317178   -0.308821          0.961270 -0.207952   \n",
       "4    -0.044475   0.144284   -0.317178   -0.308821          0.961270  0.374389   \n",
       "\n",
       "     Region  TrafficType   Weekend  Revenue  Month_Aug  Month_Dec  Month_Feb  \\\n",
       "0 -0.894178    -0.762629 -0.550552    False          0          0          1   \n",
       "1 -0.894178    -0.514182 -0.550552    False          0          0          1   \n",
       "2  2.437081    -0.265735 -0.550552    False          0          0          1   \n",
       "3 -0.477771    -0.017289 -0.550552    False          0          0          1   \n",
       "4 -0.894178    -0.017289  1.816360    False          0          0          1   \n",
       "\n",
       "   Month_Jul  Month_June  Month_Mar  Month_May  Month_Nov  Month_Oct  \\\n",
       "0          0           0          0          0          0          0   \n",
       "1          0           0          0          0          0          0   \n",
       "2          0           0          0          0          0          0   \n",
       "3          0           0          0          0          0          0   \n",
       "4          0           0          0          0          0          0   \n",
       "\n",
       "   Month_Sep  VisitorType_New_Visitor  VisitorType_Other  \\\n",
       "0          0                        0                  0   \n",
       "1          0                        0                  0   \n",
       "2          0                        0                  0   \n",
       "3          0                        0                  0   \n",
       "4          0                        0                  0   \n",
       "\n",
       "   VisitorType_Returning_Visitor  \n",
       "0                              1  \n",
       "1                              1  \n",
       "2                              1  \n",
       "3                              1  \n",
       "4                              1  "
      ]
     },
     "execution_count": 86,
     "metadata": {},
     "output_type": "execute_result"
    }
   ],
   "source": [
    "normed_df.head()"
   ]
  },
  {
   "cell_type": "code",
   "execution_count": null,
   "metadata": {},
   "outputs": [],
   "source": [
    "normed_df[feature_num_cols]"
   ]
  },
  {
   "cell_type": "code",
   "execution_count": 89,
   "metadata": {},
   "outputs": [
    {
     "data": {
      "text/plain": [
       "Text(0, 0.5, 'Inertia')"
      ]
     },
     "execution_count": 89,
     "metadata": {},
     "output_type": "execute_result"
    },
    {
     "data": {
      "image/png": "[encoded data removed]",
      "text/plain": [
       "<Figure size 864x432 with 1 Axes>"
      ]
     },
     "metadata": {
      "needs_background": "light"
     },
     "output_type": "display_data"
    }
   ],
   "source": [
    "# fitting multiple k-means algorithms and storing the values in an empty list\n",
    "from sklearn.cluster import KMeans\n",
    "\n",
    "SSE = []\n",
    "for cluster in range(1,20):\n",
    "    kmeans = KMeans(n_jobs = -1, n_clusters = cluster, init='k-means++')\n",
    "    kmeans.fit(normed_df[['BounceRates','ExitRates','OperatingSystems','Revenue']])\n",
    "    SSE.append(kmeans.inertia_)\n",
    "\n",
    "# converting the results into a dataframe and plotting them\n",
    "frame = pd.DataFrame({'Cluster':range(1,20), 'SSE':SSE})\n",
    "plt.figure(figsize=(12,6))\n",
    "plt.plot(frame['Cluster'], frame['SSE'], marker='o')\n",
    "plt.xlabel('Number of clusters')\n",
    "plt.ylabel('Inertia')"
   ]
  },
  {
   "cell_type": "code",
   "execution_count": null,
   "metadata": {},
   "outputs": [],
   "source": []
  }
 ],
 "metadata": {
  "kernelspec": {
   "display_name": "Python 3",
   "language": "python",
   "name": "python3"
  },
  "language_info": {
   "codemirror_mode": {
    "name": "ipython",
    "version": 3
   },
   "file_extension": ".py",
   "mimetype": "text/x-python",
   "name": "python",
   "nbconvert_exporter": "python",
   "pygments_lexer": "ipython3",
   "version": "3.7.6"
  }
 },
 "nbformat": 4,
 "nbformat_minor": 4
}
