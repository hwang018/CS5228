{
 "cells": [
  {
   "cell_type": "markdown",
   "metadata": {},
   "source": [
    "Major definition\n",
    "\n",
    "\"Administrative\", \"Administrative Duration\", \"Informational\", \"Informational Duration\", \"Product Related\" and \"Product Related Duration\" represent the number of different types of pages visited by the visitor in that session and total time spent in each of these page categories. The values of these features are derived from the URL information of the pages visited by the user and updated in real time when a user takes an action, e.g. moving from one page to another. The \"Bounce Rate\", \"Exit Rate\" and \"Page Value\" features represent the metrics measured by \"Google Analytics\" for each page in the e-commerce site. The value of \"Bounce Rate\" feature for a web page refers to the percentage of visitors who enter the site from that page and then leave (\"bounce\") without triggering any other requests to the analytics server during that session.\n",
    "\n",
    "The value of \"Exit Rate\" feature for a specific web page is calculated as for all pageviews to the page, the percentage that were the last in the session. \n",
    "\n",
    "The \"Page Value\" feature represents the average value for a web page that a user visited before completing an e-commerce transaction.\n",
    "\n",
    "The \"Special Day\" feature indicates the closeness of the site visiting time to a specific special day (e.g. Mother’s Day, Valentine's Day) in which the sessions are more likely to be finalized with transaction. The value of this attribute is determined by considering the dynamics of e-commerce such as the duration between the order date and very date. For example, for Valentina’s day, this value takes a nonzero value between February 2 and February 12, zero before and after this date unless it is close to another special day, and its maximum value of 1 on February 8. \n",
    "\n",
    "The dataset also includes operating system, browser, region, traffic type, visitor type as returning or new visitor, a Boolean value indicating whether the date of the visit is weekend, and month of the"
   ]
  },
  {
   "cell_type": "code",
   "execution_count": 60,
   "metadata": {},
   "outputs": [],
   "source": [
    "import numpy as np\n",
    "import pandas as pd\n",
    "\n",
    "import os\n",
    "import matplotlib.pyplot as plt\n",
    "%matplotlib inline\n",
    "\n",
    "import seaborn as sns\n",
    "\n",
    "from sklearn.preprocessing import StandardScaler\n",
    "\n",
    "from sklearn.model_selection import train_test_split\n",
    "from sklearn.model_selection import GridSearchCV\n",
    "\n",
    "# model evaluation\n",
    "from sklearn.metrics import confusion_matrix\n",
    "from sklearn.metrics import f1_score\n",
    "from sklearn.metrics import accuracy_score\n",
    "\n",
    "# classifiers\n",
    "from sklearn.neighbors import KNeighborsClassifier # KNN\n",
    "from sklearn.linear_model import LogisticRegression # logistic regression\n",
    "from sklearn.tree import DecisionTreeClassifier # decision tree\n",
    "from sklearn.ensemble import RandomForestClassifier # random forest\n",
    "from sklearn.ensemble import GradientBoostingClassifier # gradient boosting\n",
    "\n",
    "from tqdm import tqdm_notebook\n",
    "from sklearn.preprocessing import StandardScaler\n",
    "from sklearn.svm import NuSVC, SVC\n",
    "from sklearn.metrics import accuracy_score, classification_report,confusion_matrix\n",
    "pd.options.display.precision = 15\n",
    "\n",
    "import lightgbm as lgb\n",
    "import time\n",
    "import datetime\n",
    "\n",
    "import json\n",
    "import ast\n",
    "from sklearn.model_selection import StratifiedKFold, KFold, RepeatedKFold, train_test_split\n",
    "import pandas as pd\n",
    "import numpy as np\n",
    "import math\n",
    "from sklearn.preprocessing import StandardScaler\n",
    "from sklearn.ensemble import GradientBoostingClassifier\n",
    "from sklearn.ensemble import GradientBoostingRegressor\n",
    "from sklearn.metrics import roc_auc_score\n",
    "from sklearn.metrics import mean_squared_error, mean_absolute_error\n",
    "from numpy.random import normal\n",
    "from sklearn.preprocessing import OneHotEncoder\n",
    "import matplotlib.pyplot as plt\n",
    "%matplotlib inline\n",
    "import warnings\n",
    "warnings.filterwarnings(\"ignore\")\n",
    "import os\n",
    "from sklearn.model_selection import StratifiedKFold\n",
    "from math import exp\n",
    "\n",
    "# ignore warnings\n",
    "import warnings\n",
    "warnings.filterwarnings('ignore')\n",
    "\n",
    "pd.pandas.set_option('display.max_columns', None)"
   ]
  },
  {
   "cell_type": "markdown",
   "metadata": {},
   "source": [
    "### 1. EDA: columnar missing vals, distribution and some plots"
   ]
  },
  {
   "cell_type": "code",
   "execution_count": 2,
   "metadata": {},
   "outputs": [],
   "source": [
    "def missing_data(data):\n",
    "    '''\n",
    "    display of missing information per column\n",
    "    '''\n",
    "    total = data.isnull().sum()\n",
    "    percent = (data.isnull().sum()/data.isnull().count()*100)\n",
    "    tt = pd.concat([total, percent], axis=1, keys=['Total', 'Percent'])\n",
    "    types = []\n",
    "    for col in data.columns:\n",
    "        dtype = str(data[col].dtype)\n",
    "        types.append(dtype)\n",
    "    tt['Types'] = types\n",
    "    return(np.transpose(tt))\n",
    "\n",
    "def plot_feature_distribution(df1, df2, label1, label2, features):\n",
    "    '''\n",
    "    numerical feature ditribution comparator for binary labelled segments\n",
    "    '''\n",
    "    i = 0\n",
    "    sns.set_style('whitegrid')\n",
    "    plt.figure()\n",
    "    fig, ax = plt.subplots(3,3,figsize=(10,10))\n",
    "\n",
    "    for feature in features:\n",
    "        try:\n",
    "            i += 1\n",
    "            plt.subplot(3,3,i)\n",
    "            sns.distplot(df1[feature], hist=False,label=label1)\n",
    "            sns.distplot(df2[feature], hist=False,label=label2)\n",
    "            plt.xlabel(feature, fontsize=9)\n",
    "            locs, labels = plt.xticks()\n",
    "            plt.tick_params(axis='x', which='major', labelsize=6, pad=-6)\n",
    "            plt.tick_params(axis='y', which='major', labelsize=6)\n",
    "        except:\n",
    "            continue\n",
    "    plt.show();\n",
    "    \n",
    "def count_ctgy_spread(df,ctgy_cols):\n",
    "    '''\n",
    "    count in each categorical column,\n",
    "    how many variety they have\n",
    "    returns the suggested methods to process columns, using config\n",
    "    '''\n",
    "    res = {}\n",
    "    advice = {}\n",
    "    for col in ctgy_cols:\n",
    "        val = df[col].value_counts().reset_index().shape[0]\n",
    "        if val <= 6:\n",
    "            advice[col] = 'one_hot'\n",
    "        elif val > 6 and val <= 10:\n",
    "            advice[col] = 'mid_level'\n",
    "        else:\n",
    "            advice[col] = 'encoding'\n",
    "        \n",
    "        res[col] = val\n",
    "    print('column:number of unique records')\n",
    "    return res,advice"
   ]
  },
  {
   "cell_type": "code",
   "execution_count": 3,
   "metadata": {
    "scrolled": true
   },
   "outputs": [
    {
     "data": {
      "text/html": [
       "<div>\n",
       "<style scoped>\n",
       "    .dataframe tbody tr th:only-of-type {\n",
       "        vertical-align: middle;\n",
       "    }\n",
       "\n",
       "    .dataframe tbody tr th {\n",
       "        vertical-align: top;\n",
       "    }\n",
       "\n",
       "    .dataframe thead th {\n",
       "        text-align: right;\n",
       "    }\n",
       "</style>\n",
       "<table border=\"1\" class=\"dataframe\">\n",
       "  <thead>\n",
       "    <tr style=\"text-align: right;\">\n",
       "      <th></th>\n",
       "      <th>Administrative</th>\n",
       "      <th>Administrative_Duration</th>\n",
       "      <th>Informational</th>\n",
       "      <th>Informational_Duration</th>\n",
       "      <th>ProductRelated</th>\n",
       "      <th>ProductRelated_Duration</th>\n",
       "      <th>BounceRates</th>\n",
       "      <th>ExitRates</th>\n",
       "      <th>PageValues</th>\n",
       "      <th>SpecialDay</th>\n",
       "      <th>Month</th>\n",
       "      <th>OperatingSystems</th>\n",
       "      <th>Browser</th>\n",
       "      <th>Region</th>\n",
       "      <th>TrafficType</th>\n",
       "      <th>VisitorType</th>\n",
       "      <th>Weekend</th>\n",
       "      <th>Revenue</th>\n",
       "    </tr>\n",
       "  </thead>\n",
       "  <tbody>\n",
       "    <tr>\n",
       "      <th>Total</th>\n",
       "      <td>14</td>\n",
       "      <td>14</td>\n",
       "      <td>14</td>\n",
       "      <td>14</td>\n",
       "      <td>14</td>\n",
       "      <td>14</td>\n",
       "      <td>14</td>\n",
       "      <td>14</td>\n",
       "      <td>0</td>\n",
       "      <td>0</td>\n",
       "      <td>0</td>\n",
       "      <td>0</td>\n",
       "      <td>0</td>\n",
       "      <td>0</td>\n",
       "      <td>0</td>\n",
       "      <td>0</td>\n",
       "      <td>0</td>\n",
       "      <td>0</td>\n",
       "    </tr>\n",
       "    <tr>\n",
       "      <th>Percent</th>\n",
       "      <td>0.113544201135442</td>\n",
       "      <td>0.113544201135442</td>\n",
       "      <td>0.113544201135442</td>\n",
       "      <td>0.113544201135442</td>\n",
       "      <td>0.113544201135442</td>\n",
       "      <td>0.113544201135442</td>\n",
       "      <td>0.113544201135442</td>\n",
       "      <td>0.113544201135442</td>\n",
       "      <td>0</td>\n",
       "      <td>0</td>\n",
       "      <td>0</td>\n",
       "      <td>0</td>\n",
       "      <td>0</td>\n",
       "      <td>0</td>\n",
       "      <td>0</td>\n",
       "      <td>0</td>\n",
       "      <td>0</td>\n",
       "      <td>0</td>\n",
       "    </tr>\n",
       "    <tr>\n",
       "      <th>Types</th>\n",
       "      <td>float64</td>\n",
       "      <td>float64</td>\n",
       "      <td>float64</td>\n",
       "      <td>float64</td>\n",
       "      <td>float64</td>\n",
       "      <td>float64</td>\n",
       "      <td>float64</td>\n",
       "      <td>float64</td>\n",
       "      <td>float64</td>\n",
       "      <td>object</td>\n",
       "      <td>object</td>\n",
       "      <td>object</td>\n",
       "      <td>object</td>\n",
       "      <td>object</td>\n",
       "      <td>object</td>\n",
       "      <td>object</td>\n",
       "      <td>bool</td>\n",
       "      <td>int64</td>\n",
       "    </tr>\n",
       "  </tbody>\n",
       "</table>\n",
       "</div>"
      ],
      "text/plain": [
       "            Administrative Administrative_Duration      Informational  \\\n",
       "Total                   14                      14                 14   \n",
       "Percent  0.113544201135442       0.113544201135442  0.113544201135442   \n",
       "Types              float64                 float64            float64   \n",
       "\n",
       "        Informational_Duration     ProductRelated ProductRelated_Duration  \\\n",
       "Total                       14                 14                      14   \n",
       "Percent      0.113544201135442  0.113544201135442       0.113544201135442   \n",
       "Types                  float64            float64                 float64   \n",
       "\n",
       "               BounceRates          ExitRates PageValues SpecialDay   Month  \\\n",
       "Total                   14                 14          0          0       0   \n",
       "Percent  0.113544201135442  0.113544201135442          0          0       0   \n",
       "Types              float64            float64    float64     object  object   \n",
       "\n",
       "        OperatingSystems Browser  Region TrafficType VisitorType Weekend  \\\n",
       "Total                  0       0       0           0           0       0   \n",
       "Percent                0       0       0           0           0       0   \n",
       "Types             object  object  object      object      object    bool   \n",
       "\n",
       "        Revenue  \n",
       "Total         0  \n",
       "Percent       0  \n",
       "Types     int64  "
      ]
     },
     "execution_count": 3,
     "metadata": {},
     "output_type": "execute_result"
    }
   ],
   "source": [
    "# starting point, read in raw data\n",
    "df = pd.read_csv('online_shoppers_intention.csv')\n",
    "\n",
    "# categorical feature coersive conversion\n",
    "df['SpecialDay'] = df['SpecialDay'].astype('O')\n",
    "df['OperatingSystems'] = df['OperatingSystems'].astype('O')\n",
    "df['Browser'] = df['Browser'].astype('O')\n",
    "df['Region'] = df['Region'].astype('O')\n",
    "df['TrafficType'] = df['TrafficType'].astype('O')\n",
    "df['Revenue'] = df['Revenue'].astype(int)\n",
    "\n",
    "# convenient vars for columns\n",
    "feature_cols = df.columns.tolist()\n",
    "feature_cols.remove('Revenue')\n",
    "feature_obj_cols = df.select_dtypes('O').columns.tolist()\n",
    "feature_num_cols = [x for x in feature_cols if x not in feature_obj_cols]\n",
    "\n",
    "#show columnar missing values conditions\n",
    "missing_data(df)"
   ]
  },
  {
   "cell_type": "code",
   "execution_count": 4,
   "metadata": {},
   "outputs": [],
   "source": [
    "#fillna on the numerical columns, using mean\n",
    "for col in df.select_dtypes(exclude='O').columns.tolist():\n",
    "    df[col].fillna(df[col].mean(),inplace=True)"
   ]
  },
  {
   "cell_type": "code",
   "execution_count": 5,
   "metadata": {},
   "outputs": [],
   "source": [
    "train, test = train_test_split(df, test_size=0.2,random_state = 42)"
   ]
  },
  {
   "cell_type": "markdown",
   "metadata": {},
   "source": [
    "### Build benchmark model, off the shelf LR"
   ]
  },
  {
   "cell_type": "code",
   "execution_count": 6,
   "metadata": {},
   "outputs": [],
   "source": [
    "# roc curve and auc\n",
    "from sklearn.datasets import make_classification\n",
    "from sklearn.linear_model import LogisticRegression\n",
    "from sklearn.model_selection import train_test_split\n",
    "from sklearn.metrics import roc_curve\n",
    "from sklearn.metrics import roc_auc_score\n",
    "from matplotlib import pyplot\n",
    "\n",
    "def benchmark_model(df,target_col):\n",
    "    '''\n",
    "    benchmark model, using simple off shelf models\n",
    "    we use LR off shelf as benchmark model\n",
    "    '''\n",
    "    #fillna on the numerical columns, using mean\n",
    "    for col in df.select_dtypes(exclude='O').columns.tolist():\n",
    "        df[col].fillna(df[col].mean(),inplace=True)\n",
    "    \n",
    "    #remove target column, keep the features columns\n",
    "    all_cols = df.columns.tolist()\n",
    "    all_cols.remove(target_col)\n",
    "    \n",
    "    #split dataset immediately avoid data leakage\n",
    "    train, test = train_test_split(df, test_size=0.2)\n",
    "    \n",
    "    #use get dummies on all categoricals\n",
    "    X_train = pd.get_dummies(train[all_cols])\n",
    "    y_train = train[target_col]\n",
    "    \n",
    "    X_test = pd.get_dummies(test[all_cols])\n",
    "    y_test = test[target_col]\n",
    "\n",
    "    \n",
    "    # Get missing columns in the training test\n",
    "    missing_cols = set( X_train.columns ) - set( X_test.columns )\n",
    "    # Add a missing column in test set with default value equal to 0\n",
    "    for c in missing_cols:\n",
    "        X_test[c] = 0\n",
    "    # Ensure the order of column in the test set is in the same order than in train set\n",
    "    X_test = X_test[X_train.columns]\n",
    "\n",
    "    ns_probs = [0 for _ in range(len(y_test))]\n",
    "    # fit a model\n",
    "    model = LogisticRegression()\n",
    "    model.fit(X_train, y_train)\n",
    "    # predict probabilities\n",
    "    lr_probs = model.predict_proba(X_test)\n",
    "    # keep probabilities for the positive outcome only\n",
    "    lr_probs = lr_probs[:, 1]\n",
    "\n",
    "    # calculate scores\n",
    "    ns_auc = roc_auc_score(y_test, ns_probs)\n",
    "    lr_auc = roc_auc_score(y_test, lr_probs)\n",
    "    # summarize scores\n",
    "    print('No Skill: ROC AUC=%.3f' % (ns_auc))\n",
    "    print('Logistic: ROC AUC=%.3f' % (lr_auc))\n",
    "    # calculate roc curves\n",
    "    ns_fpr, ns_tpr, _ = roc_curve(y_test, ns_probs)\n",
    "    lr_fpr, lr_tpr, _ = roc_curve(y_test, lr_probs)\n",
    "    # plot the roc curve for the model\n",
    "    pyplot.plot(ns_fpr, ns_tpr, linestyle='--', label='Random')\n",
    "    pyplot.plot(lr_fpr, lr_tpr, marker='.', label='Logistic')\n",
    "    # axis labels\n",
    "    pyplot.xlabel('False Positive Rate')\n",
    "    pyplot.ylabel('True Positive Rate')\n",
    "    # show the legend\n",
    "    pyplot.legend()\n",
    "    # show the plot\n",
    "    pyplot.show()\n",
    "\n",
    "    return None"
   ]
  },
  {
   "cell_type": "code",
   "execution_count": 11,
   "metadata": {},
   "outputs": [
    {
     "name": "stdout",
     "output_type": "stream",
     "text": [
      "No Skill: ROC AUC=0.500\n",
      "Logistic: ROC AUC=0.872\n"
     ]
    },
    {
     "data": {
      "image/png": "[encoded data removed]",
      "text/plain": [
       "<Figure size 432x288 with 1 Axes>"
      ]
     },
     "metadata": {
      "needs_background": "light"
     },
     "output_type": "display_data"
    }
   ],
   "source": [
    "ac = benchmark_model(df,target_col='Revenue')"
   ]
  },
  {
   "cell_type": "markdown",
   "metadata": {},
   "source": [
    "### Feature engineering\n",
    "\n",
    "The \"Special Day\" feature indicates the closeness of the site visiting time to a specific special day (e.g. Mother’s Day, Valentine's Day) in which the sessions are more likely to be finalized with transaction. The value of this attribute is determined by considering the dynamics of e-commerce such as the duration between the order date and very date. For example, for Valentina’s day, this value takes a nonzero value between February 2 and February 12, zero before and after this date unless it is close to another special day, and its maximum value of 1 on February 8."
   ]
  },
  {
   "cell_type": "code",
   "execution_count": 14,
   "metadata": {},
   "outputs": [],
   "source": [
    "def decayed_tte(x):\n",
    "    '''\n",
    "    time to event\n",
    "    x input, rescaled output\n",
    "    '''\n",
    "    #if x is small, means not impactful, if x=1, then it's very close to special day\n",
    "    return exp(x-1)\n",
    "\n",
    "def get_likelihood_feature(df,feature,target):\n",
    "    '''\n",
    "    get a factual information for feature\n",
    "    conversion probability using singel column\n",
    "    '''\n",
    "    print(\"processing feature:%s\"%feature)\n",
    "    non_rev = train[train[target]==0][feature].value_counts().reset_index().rename(columns={'index':'var',feature:'count_non_rev'})\n",
    "    \n",
    "    rev = train[train[target]==1][feature].value_counts().reset_index().rename(columns={'index':'var',feature:'count_rev'})\n",
    "    #inner joint result\n",
    "    merged_res = pd.merge(non_rev,rev,on='var',how='inner')\n",
    "    merged_res['conversion_prob'] = merged_res['count_rev']/(merged_res['count_non_rev']+merged_res['count_rev'])\n",
    "    \n",
    "    feature_count = merged_res['var'].tolist()\n",
    "    prob = merged_res['conversion_prob'].tolist()\n",
    "    prob_dict = dict(zip(feature_count,prob))\n",
    "    \n",
    "    return prob_dict\n",
    "\n",
    "def get_probability(rowin,d):\n",
    "    '''\n",
    "    based on a dict,\n",
    "    associate the probability\n",
    "    if not in keys, leave as None\n",
    "    '''\n",
    "    if rowin in d.keys():\n",
    "        return d[rowin]\n",
    "    else:\n",
    "        return None"
   ]
  },
  {
   "cell_type": "code",
   "execution_count": 16,
   "metadata": {},
   "outputs": [],
   "source": [
    "def challenger_model(train,test,one_hot,target_col):\n",
    "    all_cols = train.columns.tolist()\n",
    "    all_cols.remove(target_col)\n",
    "    \n",
    "    if one_hot:\n",
    "        #use get dummies on all categoricals\n",
    "        X_train = pd.get_dummies(train[all_cols])\n",
    "        y_train = train[target_col]\n",
    "\n",
    "        X_test = pd.get_dummies(test[all_cols])\n",
    "        y_test = test[target_col]\n",
    "\n",
    "\n",
    "        # Get missing columns in the training test\n",
    "        missing_cols = set( X_train.columns ) - set( X_test.columns )\n",
    "        # Add a missing column in test set with default value equal to 0\n",
    "        for c in missing_cols:\n",
    "            X_test[c] = 0\n",
    "        # Ensure the order of column in the test set is in the same order than in train set\n",
    "        X_test = X_test[X_train.columns]\n",
    "    \n",
    "    else:\n",
    "        X_train = train[all_cols]\n",
    "        y_train = train[target_col]\n",
    "        X_test = test[all_cols]\n",
    "        y_test = test[target_col]\n",
    "        \n",
    "    ns_probs = [0 for _ in range(len(y_test))]\n",
    "    # fit a model\n",
    "    model = LogisticRegression()\n",
    "    model.fit(X_train, y_train)\n",
    "    # predict probabilities\n",
    "    lr_probs = model.predict_proba(X_test)\n",
    "    # keep probabilities for the positive outcome only\n",
    "    lr_probs = lr_probs[:, 1]\n",
    "\n",
    "    # calculate scores\n",
    "    ns_auc = roc_auc_score(y_test, ns_probs)\n",
    "    lr_auc = roc_auc_score(y_test, lr_probs)\n",
    "    # summarize scores\n",
    "    print('No Skill: ROC AUC=%.3f' % (ns_auc))\n",
    "    print('Logistic: ROC AUC=%.3f' % (lr_auc))\n",
    "    # calculate roc curves\n",
    "    ns_fpr, ns_tpr, _ = roc_curve(y_test, ns_probs)\n",
    "    lr_fpr, lr_tpr, _ = roc_curve(y_test, lr_probs)\n",
    "    # plot the roc curve for the model\n",
    "    pyplot.plot(ns_fpr, ns_tpr, linestyle='--', label='Random')\n",
    "    pyplot.plot(lr_fpr, lr_tpr, marker='.', label='Logistic')\n",
    "    # axis labels\n",
    "    pyplot.xlabel('False Positive Rate')\n",
    "    pyplot.ylabel('True Positive Rate')\n",
    "    # show the legend\n",
    "    pyplot.legend()\n",
    "    # show the plot\n",
    "    pyplot.show()"
   ]
  },
  {
   "cell_type": "code",
   "execution_count": 17,
   "metadata": {},
   "outputs": [
    {
     "name": "stdout",
     "output_type": "stream",
     "text": [
      "No Skill: ROC AUC=0.500\n",
      "Logistic: ROC AUC=0.890\n"
     ]
    },
    {
     "data": {
      "image/png": "[encoded data removed]",
      "text/plain": [
       "<Figure size 432x288 with 1 Axes>"
      ]
     },
     "metadata": {
      "needs_background": "light"
     },
     "output_type": "display_data"
    }
   ],
   "source": [
    "challenger_model(train,test,True,'Revenue')"
   ]
  },
  {
   "cell_type": "markdown",
   "metadata": {},
   "source": [
    "### Dealing with categorical features"
   ]
  },
  {
   "cell_type": "code",
   "execution_count": 58,
   "metadata": {},
   "outputs": [],
   "source": [
    "def mean_encode(train_data, test_data, columns, target_col, reg_method=None,\n",
    "                alpha=0, add_random=False, rmean=0, rstd=0.1, folds=1):\n",
    "    '''Returns a DataFrame with encoded columns'''\n",
    "    encoded_cols = []\n",
    "    target_mean_global = train_data[target_col].mean()\n",
    "    for col in columns:\n",
    "        # Getting means for test data\n",
    "        nrows_cat = train_data.groupby(col)[target_col].count()\n",
    "        target_means_cats = train_data.groupby(col)[target_col].mean()\n",
    "        target_means_cats_adj = (target_means_cats*nrows_cat + \n",
    "                                 target_mean_global*alpha)/(nrows_cat+alpha)\n",
    "        # Mapping means to test data\n",
    "        encoded_col_test = test_data[col].map(target_means_cats_adj)\n",
    "        # Getting a train encodings\n",
    "        if reg_method == 'expanding_mean':\n",
    "            train_data_shuffled = train_data.sample(frac=1, random_state=1)\n",
    "            cumsum = train_data_shuffled.groupby(col)[target_col].cumsum() - train_data_shuffled[target_col]\n",
    "            cumcnt = train_data_shuffled.groupby(col).cumcount()\n",
    "            encoded_col_train = cumsum/(cumcnt)\n",
    "            encoded_col_train.fillna(target_mean_global, inplace=True)\n",
    "            if add_random:\n",
    "                encoded_col_train = encoded_col_train + normal(loc=rmean, scale=rstd, \n",
    "                                                               size=(encoded_col_train.shape[0]))\n",
    "        elif (reg_method == 'k_fold') and (folds > 1):\n",
    "            print(folds)\n",
    "            kfold = StratifiedKFold(train_data[target_col].values, folds, shuffle=True, random_state=1)\n",
    "            parts = []\n",
    "            for tr_in, val_ind in kfold:\n",
    "                # divide data\n",
    "                df_for_estimation, df_estimated = train_data.iloc[tr_in], train_data.iloc[val_ind]\n",
    "                # getting means on data for estimation (all folds except estimated)\n",
    "                nrows_cat = df_for_estimation.groupby(col)[target_col].count()\n",
    "                target_means_cats = df_for_estimation.groupby(col)[target_col].mean()\n",
    "                target_means_cats_adj = (target_means_cats*nrows_cat + \n",
    "                                         target_mean_global*alpha)/(nrows_cat+alpha)\n",
    "                # Mapping means to estimated fold\n",
    "                encoded_col_train_part = df_estimated[col].map(target_means_cats_adj)\n",
    "                if add_random:\n",
    "                    encoded_col_train_part = encoded_col_train_part + normal(loc=rmean, scale=rstd, \n",
    "                                                                             size=(encoded_col_train_part.shape[0]))\n",
    "                # Saving estimated encodings for a fold\n",
    "                parts.append(encoded_col_train_part)\n",
    "            encoded_col_train = pd.concat(parts, axis=0)\n",
    "            encoded_col_train.fillna(target_mean_global, inplace=True)\n",
    "        else:\n",
    "            encoded_col_train = train_data[col].map(target_means_cats_adj)\n",
    "            if add_random:\n",
    "                encoded_col_train = encoded_col_train + normal(loc=rmean, scale=rstd, \n",
    "                                                               size=(encoded_col_train.shape[0]))\n",
    "\n",
    "        # Saving the column with means\n",
    "        encoded_col = pd.concat([encoded_col_train, encoded_col_test], axis=0)\n",
    "        encoded_col[encoded_col.isnull()] = target_mean_global\n",
    "        encoded_cols.append(pd.DataFrame({'mean_'+target_col+'_'+col:encoded_col}))\n",
    "    all_encoded = pd.concat(encoded_cols, axis=1)\n",
    "    return (all_encoded.loc[train_data.index,:], \n",
    "            all_encoded.loc[test_data.index,:])\n",
    "\n",
    "def normalizer(df,feature_num_cols):\n",
    "    '''\n",
    "    df, feature_num_cols: num cols\n",
    "    normalize continuous variables\n",
    "    standardscalar used\n",
    "    cols not in train_numerical will be intact and also returned\n",
    "    '''\n",
    "    scaler = StandardScaler()\n",
    "    normed_df = df.copy()\n",
    "    \n",
    "    for col in feature_num_cols:\n",
    "        scaled_col = scaler.fit_transform(df[col].values.reshape((-1,1)))\n",
    "        normed_df[col] = scaled_col\n",
    "        \n",
    "    return normed_df\n",
    "\n",
    "def prepare_training_table(train,test,config):\n",
    "    '''\n",
    "    input: already splited train, test df, and a config dict\n",
    "    separately treate numerical and categorical features\n",
    "    output a ready to model dataframe, normalized (numerical)\n",
    "    encoded (categorical)\n",
    "    '''\n",
    "    #depending on the cardinality, we choose following methods for categorical columns\n",
    "    target_col = config['target_col']\n",
    "    one_hot_cols = config['one_hot_cols']\n",
    "    mean_encode_cols = config['mean_encode_cols']\n",
    "    feature_num_cols = config['num_features']\n",
    "    \n",
    "    train_one_hot = pd.get_dummies(train[one_hot_cols])\n",
    "    test_one_hot = pd.get_dummies(test[one_hot_cols])\n",
    "\n",
    "    # Get missing columns in the training test\n",
    "    missing_cols = set( train_one_hot.columns ) - set( test_one_hot.columns )\n",
    "    # Add a missing column in test set with default value equal to 0\n",
    "    for c in missing_cols:\n",
    "        test_one_hot[c] = 0\n",
    "    # Ensure the order of column in the test set is in the same order than in train set\n",
    "    test_one_hot = test_one_hot[train_one_hot.columns]\n",
    "    \n",
    "    train_encoded,test_encoded = mean_encode(train, test, columns=mean_encode_cols,target_col=target_col, \n",
    "                                         reg_method=None,alpha=0,add_random=False, rmean=0, rstd=0.1, folds=1)\n",
    "    \n",
    "    train_categorical = pd.merge(train_one_hot, train_encoded, left_index=True, right_index=True)\n",
    "    test_categorical = pd.merge(test_one_hot, test_encoded, left_index=True, right_index=True)\n",
    "    \n",
    "    train_numerical = train.select_dtypes(exclude='O')\n",
    "    test_numerical = test.select_dtypes(exclude='O')\n",
    "    \n",
    "    normed_train = normalizer(train_numerical,feature_num_cols)\n",
    "    normed_test = normalizer(test_numerical,feature_num_cols)\n",
    "    \n",
    "    train_processed = pd.merge(normed_train, train_categorical, left_index=True, right_index=True)\n",
    "    test_processed = pd.merge(normed_test, test_categorical, left_index=True, right_index=True)\n",
    "    \n",
    "    return train_processed,test_processed"
   ]
  },
  {
   "cell_type": "code",
   "execution_count": null,
   "metadata": {},
   "outputs": [],
   "source": []
  },
  {
   "cell_type": "code",
   "execution_count": 59,
   "metadata": {},
   "outputs": [
    {
     "name": "stdout",
     "output_type": "stream",
     "text": [
      "column:number of unique records\n"
     ]
    },
    {
     "data": {
      "text/plain": [
       "{'SpecialDay': 'one_hot',\n",
       " 'Month': 'mid_level',\n",
       " 'OperatingSystems': 'mid_level',\n",
       " 'Browser': 'encoding',\n",
       " 'Region': 'mid_level',\n",
       " 'TrafficType': 'encoding',\n",
       " 'VisitorType': 'one_hot'}"
      ]
     },
     "execution_count": 59,
     "metadata": {},
     "output_type": "execute_result"
    }
   ],
   "source": [
    "cols_variety, advice = count_ctgy_spread(df,df.select_dtypes(include=('O')).columns)\n",
    "\n",
    "advice"
   ]
  },
  {
   "cell_type": "code",
   "execution_count": 53,
   "metadata": {},
   "outputs": [
    {
     "name": "stdout",
     "output_type": "stream",
     "text": [
      "processing feature:Month\n"
     ]
    }
   ],
   "source": [
    "month_dict = get_likelihood_feature(train,feature = 'Month',target = 'Revenue')\n",
    "train['special_day_scaled'] = train['SpecialDay'].apply(lambda x:decayed_tte(x))\n",
    "train['mth_conv_prob'] = train['Month'].apply(lambda x:get_probability(x,month_dict))\n",
    "\n",
    "test['special_day_scaled'] = test['SpecialDay'].apply(lambda x:decayed_tte(x))\n",
    "test['mth_conv_prob'] = test['Month'].apply(lambda x:get_probability(x,month_dict))"
   ]
  },
  {
   "cell_type": "code",
   "execution_count": 55,
   "metadata": {},
   "outputs": [],
   "source": [
    "config = {'target_col':'Revenue',\n",
    "         'one_hot_cols':['SpecialDay','VisitorType','Month'],\n",
    "         'mean_encode_cols':['OperatingSystems','Browser','Region','TrafficType'],\n",
    "         'num_features':feature_num_cols}"
   ]
  },
  {
   "cell_type": "code",
   "execution_count": 56,
   "metadata": {},
   "outputs": [],
   "source": [
    "a,b = prepare_training_table(train,test,config)"
   ]
  },
  {
   "cell_type": "code",
   "execution_count": null,
   "metadata": {},
   "outputs": [],
   "source": []
  },
  {
   "cell_type": "code",
   "execution_count": 41,
   "metadata": {},
   "outputs": [],
   "source": []
  },
  {
   "cell_type": "code",
   "execution_count": 57,
   "metadata": {},
   "outputs": [
    {
     "name": "stdout",
     "output_type": "stream",
     "text": [
      "No Skill: ROC AUC=0.500\n",
      "Logistic: ROC AUC=0.895\n"
     ]
    },
    {
     "data": {
      "image/png": "[encoded data removed]",
      "text/plain": [
       "<Figure size 432x288 with 1 Axes>"
      ]
     },
     "metadata": {
      "needs_background": "light"
     },
     "output_type": "display_data"
    }
   ],
   "source": [
    "challenger_model(a,b,False,'Revenue')"
   ]
  },
  {
   "cell_type": "code",
   "execution_count": null,
   "metadata": {},
   "outputs": [],
   "source": []
  },
  {
   "cell_type": "code",
   "execution_count": null,
   "metadata": {},
   "outputs": [],
   "source": []
  },
  {
   "cell_type": "code",
   "execution_count": null,
   "metadata": {},
   "outputs": [],
   "source": []
  },
  {
   "cell_type": "code",
   "execution_count": null,
   "metadata": {},
   "outputs": [],
   "source": []
  },
  {
   "cell_type": "code",
   "execution_count": null,
   "metadata": {},
   "outputs": [],
   "source": []
  }
 ],
 "metadata": {
  "kernelspec": {
   "display_name": "Python 3",
   "language": "python",
   "name": "python3"
  },
  "language_info": {
   "codemirror_mode": {
    "name": "ipython",
    "version": 3
   },
   "file_extension": ".py",
   "mimetype": "text/x-python",
   "name": "python",
   "nbconvert_exporter": "python",
   "pygments_lexer": "ipython3",
   "version": "3.7.6"
  }
 },
 "nbformat": 4,
 "nbformat_minor": 4
}
